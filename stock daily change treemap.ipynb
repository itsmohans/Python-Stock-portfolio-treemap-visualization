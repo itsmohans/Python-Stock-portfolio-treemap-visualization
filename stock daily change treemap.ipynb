{
 "cells": [
  {
   "cell_type": "code",
   "execution_count": 175,
   "id": "aa3248be-8a30-4037-a1c6-3e62dcf2bdc5",
   "metadata": {},
   "outputs": [],
   "source": [
    "import plotly.express as px\n",
    "import pandas as pd\n",
    "from pandas_datareader import data as pdr\n",
    "import plotly\n",
    "import numpy"
   ]
  },
  {
   "cell_type": "code",
   "execution_count": 176,
   "id": "b079238d",
   "metadata": {},
   "outputs": [],
   "source": [
    "#api key for alpha vantage\n",
    "from alpha_vantage.timeseries import TimeSeries\n",
    "import time\n",
    "api_key = '0BWFK9QFQOWKMY97'"
   ]
  },
  {
   "cell_type": "code",
   "execution_count": 185,
   "id": "b15ce6cd",
   "metadata": {},
   "outputs": [
    {
     "name": "stdout",
     "output_type": "stream",
     "text": [
      "0    ABX.TO\n",
      "1    BCE.TO\n",
      "2    BNS.TO\n",
      "Name: TICKER, dtype: object\n"
     ]
    }
   ],
   "source": [
    "df=pd.read_csv(r\"C:\\Users\\Mohan\\Desktop\\Tableau\\myportfolio.csv\")\n",
    "tickerslist=df['TICKER']\n",
    "print(tickerslist)"
   ]
  },
  {
   "cell_type": "code",
   "execution_count": 186,
   "id": "ffb2cce3",
   "metadata": {},
   "outputs": [],
   "source": [
    "#ticker=['ENB','BCE']"
   ]
  },
  {
   "cell_type": "code",
   "execution_count": null,
   "id": "de8141ca",
   "metadata": {},
   "outputs": [],
   "source": []
  },
  {
   "cell_type": "code",
   "execution_count": null,
   "id": "4aaf9744",
   "metadata": {},
   "outputs": [],
   "source": []
  },
  {
   "cell_type": "code",
   "execution_count": 202,
   "id": "3b69f418",
   "metadata": {},
   "outputs": [
    {
     "name": "stdout",
     "output_type": "stream",
     "text": [
      "ABX.TO\n",
      "ABX.TO 0.032194155522535794\n"
     ]
    },
    {
     "ename": "TypeError",
     "evalue": "append() takes from 2 to 5 positional arguments but 6 were given",
     "output_type": "error",
     "traceback": [
      "\u001b[1;31m---------------------------------------------------------------------------\u001b[0m",
      "\u001b[1;31mTypeError\u001b[0m                                 Traceback (most recent call last)",
      "\u001b[1;32m~\\AppData\\Local\\Temp/ipykernel_12296/1178030486.py\u001b[0m in \u001b[0;36m<module>\u001b[1;34m\u001b[0m\n\u001b[0;32m     10\u001b[0m     \u001b[0mprint\u001b[0m\u001b[1;33m(\u001b[0m\u001b[0mticker\u001b[0m\u001b[1;33m,\u001b[0m\u001b[0mlast_pct_change\u001b[0m\u001b[1;33m)\u001b[0m\u001b[1;33m\u001b[0m\u001b[1;33m\u001b[0m\u001b[0m\n\u001b[0;32m     11\u001b[0m     \u001b[0mdfoutput\u001b[0m\u001b[1;33m=\u001b[0m\u001b[0mpd\u001b[0m\u001b[1;33m.\u001b[0m\u001b[0mDataFrame\u001b[0m\u001b[1;33m(\u001b[0m\u001b[0mcolumns\u001b[0m\u001b[1;33m=\u001b[0m\u001b[1;33m[\u001b[0m\u001b[1;34m'TICKER'\u001b[0m\u001b[1;33m,\u001b[0m\u001b[1;34m'PCTCHNG'\u001b[0m\u001b[1;33m,\u001b[0m\u001b[1;34m'AVGPURPRICE'\u001b[0m\u001b[1;33m,\u001b[0m\u001b[1;34m'CURRENTPRICE'\u001b[0m\u001b[1;33m,\u001b[0m\u001b[1;34m'TOTALVALUE'\u001b[0m\u001b[1;33m]\u001b[0m\u001b[1;33m)\u001b[0m\u001b[1;33m\u001b[0m\u001b[1;33m\u001b[0m\u001b[0m\n\u001b[1;32m---> 12\u001b[1;33m     \u001b[0mdfoutput\u001b[0m\u001b[1;33m=\u001b[0m\u001b[0mdfoutput\u001b[0m\u001b[1;33m.\u001b[0m\u001b[0mappend\u001b[0m\u001b[1;33m(\u001b[0m\u001b[0mdf\u001b[0m\u001b[1;33m[\u001b[0m\u001b[1;34m'TICKER'\u001b[0m\u001b[1;33m]\u001b[0m\u001b[1;33m,\u001b[0m\u001b[0mlast_pct_change\u001b[0m\u001b[1;33m,\u001b[0m\u001b[0mdf\u001b[0m\u001b[1;33m[\u001b[0m\u001b[1;34m'AVG PURCHASE PRICE'\u001b[0m\u001b[1;33m]\u001b[0m\u001b[1;33m,\u001b[0m\u001b[0mdf\u001b[0m\u001b[1;33m[\u001b[0m\u001b[1;34m'CURRENT PRICE'\u001b[0m\u001b[1;33m]\u001b[0m\u001b[1;33m,\u001b[0m\u001b[0mdf\u001b[0m\u001b[1;33m[\u001b[0m\u001b[1;34m'TOTAL VALUE'\u001b[0m\u001b[1;33m]\u001b[0m\u001b[1;33m)\u001b[0m\u001b[1;33m\u001b[0m\u001b[1;33m\u001b[0m\u001b[0m\n\u001b[0m\u001b[0;32m     13\u001b[0m     \u001b[1;31m#dfoutput.append(dfoutput2)\u001b[0m\u001b[1;33m\u001b[0m\u001b[1;33m\u001b[0m\u001b[0m\n\u001b[0;32m     14\u001b[0m     \u001b[0mprint\u001b[0m\u001b[1;33m(\u001b[0m\u001b[0mdfoutput\u001b[0m\u001b[1;33m)\u001b[0m\u001b[1;33m\u001b[0m\u001b[1;33m\u001b[0m\u001b[0m\n",
      "\u001b[1;31mTypeError\u001b[0m: append() takes from 2 to 5 positional arguments but 6 were given"
     ]
    }
   ],
   "source": [
    "i=0\n",
    "#dfoutput=pd.DataFrame()\n",
    "for ticker in tickerslist:\n",
    "    print(ticker)\n",
    "    ts=TimeSeries(key=api_key,output_format='pandas')\n",
    "    data,meta_data=ts.get_daily_adjusted(ticker)\n",
    "    close_data=data['4. close']\n",
    "    percentage_change=close_data.pct_change()\n",
    "    last_pct_change=percentage_change[-1]\n",
    "    print(ticker,last_pct_change)\n",
    "    dfoutput=pd.DataFrame(columns=['TICKER','PCTCHNG','AVGPURPRICE','CURRENTPRICE','TOTALVALUE'])\n",
    "    dfoutput=dfoutput.append(df['TICKER'],last_pct_change,df['AVG PURCHASE PRICE'],df['CURRENT PRICE'],df['TOTAL VALUE'])\n",
    "    #dfoutput.append(dfoutput2)\n",
    "    print(dfoutput)"
   ]
  },
  {
   "cell_type": "code",
   "execution_count": 196,
   "id": "4bd6ac61",
   "metadata": {},
   "outputs": [
    {
     "name": "stdout",
     "output_type": "stream",
     "text": [
      "   TICKER  PCT CHANGE  AVG PUR PRICE  CURRENT PRICE  TOTAL VALUE\n",
      "0  BNS.TO   -0.027934          25.37          22.47       112.35\n",
      "1  BNS.TO   -0.027934          60.70          60.50       363.00\n",
      "2  BNS.TO   -0.027934          68.11          69.96       279.84\n"
     ]
    }
   ],
   "source": [
    "print(dfoutput)"
   ]
  },
  {
   "cell_type": "code",
   "execution_count": 181,
   "id": "06117d3b",
   "metadata": {},
   "outputs": [],
   "source": [
    "import yfinance as yf\n",
    "import datetime as dt"
   ]
  },
  {
   "cell_type": "code",
   "execution_count": 253,
   "id": "4d633877",
   "metadata": {},
   "outputs": [
    {
     "name": "stdout",
     "output_type": "stream",
     "text": [
      "Date\n",
      "2023-03-07    52.700001\n",
      "Name: Close, dtype: float64\n",
      "Date\n",
      "2023-03-07   NaN\n",
      "Name: Close, dtype: float64\n"
     ]
    }
   ],
   "source": [
    "# for ticker in tickerslist:\n",
    "ticker = 'ENB.TO'\n",
    "tickerobject = yf.Ticker(ticker)\n",
    "#print(tickerobject.history().tail(1))\n",
    "close_data=dfoutput['Close']\n",
    "print(close_data)      \n",
    "percentage_change=close_data.pct_change()\n",
    "print(percentage_change)"
   ]
  },
  {
   "cell_type": "code",
   "execution_count": null,
   "id": "8c8bbd49-e5f8-4a59-bbe7-fee071283a6c",
   "metadata": {},
   "outputs": [],
   "source": []
  },
  {
   "cell_type": "code",
   "execution_count": null,
   "id": "56658e85-2d75-46a4-a12e-616f77369e45",
   "metadata": {},
   "outputs": [],
   "source": [
    "print(df)"
   ]
  },
  {
   "cell_type": "code",
   "execution_count": null,
   "id": "336936dc-98b2-44b0-9ddb-a043c93cdc3c",
   "metadata": {},
   "outputs": [],
   "source": [
    "sector=df['SECTOR']\n",
    "ticker=df['TICKER']\n",
    "avgpurprice = df['AVG PURCHASE PRICE']\n",
    "currprice=df['CURRENT PRICE']\n",
    "totalvalue=df['TOTAL VALUE']"
   ]
  },
  {
   "cell_type": "code",
   "execution_count": null,
   "id": "8a01ff6f-a4bf-43ab-93fb-ea8ecad1a1fa",
   "metadata": {},
   "outputs": [],
   "source": [
    "fig=px.treemap(df,path=[sector,ticker],values=totalvalue,color_continuous_scale=['red','yellow','green'])"
   ]
  },
  {
   "cell_type": "code",
   "execution_count": null,
   "id": "00dbbf40",
   "metadata": {},
   "outputs": [],
   "source": [
    "companies = ticker\n",
    "print(companies)"
   ]
  },
  {
   "cell_type": "code",
   "execution_count": null,
   "id": "88871d2d",
   "metadata": {
    "scrolled": false
   },
   "outputs": [],
   "source": [
    "Enbridge = yf.Ticker(\"ENB.TO\")\n",
    "Enbridge.info\n",
    "#yf.pdr_override()\n",
    "#basicdata = pdr.get_data_yahoo(companies, start_date,dt.datetime.today())\n",
    "#print(basicdata)"
   ]
  },
  {
   "cell_type": "code",
   "execution_count": null,
   "id": "3bf01587",
   "metadata": {},
   "outputs": [],
   "source": []
  },
  {
   "cell_type": "code",
   "execution_count": null,
   "id": "465fab96-5863-4024-aab1-dcf08225607f",
   "metadata": {},
   "outputs": [],
   "source": [
    "# plotly.offline.plot(fig,filename='Chart.html')"
   ]
  }
 ],
 "metadata": {
  "kernelspec": {
   "display_name": "Python 3 (ipykernel)",
   "language": "python",
   "name": "python3"
  },
  "language_info": {
   "codemirror_mode": {
    "name": "ipython",
    "version": 3
   },
   "file_extension": ".py",
   "mimetype": "text/x-python",
   "name": "python",
   "nbconvert_exporter": "python",
   "pygments_lexer": "ipython3",
   "version": "3.9.7"
  }
 },
 "nbformat": 4,
 "nbformat_minor": 5
}
